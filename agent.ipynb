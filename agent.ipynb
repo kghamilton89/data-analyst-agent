{
 "cells": [
  {
   "cell_type": "code",
   "execution_count": 1,
   "metadata": {},
   "outputs": [
    {
     "name": "stderr",
     "output_type": "stream",
     "text": [
      "/opt/anaconda3/envs/daa/lib/python3.8/site-packages/tqdm/auto.py:21: TqdmWarning: IProgress not found. Please update jupyter and ipywidgets. See https://ipywidgets.readthedocs.io/en/stable/user_install.html\n",
      "  from .autonotebook import tqdm as notebook_tqdm\n"
     ]
    },
    {
     "name": "stdout",
     "output_type": "stream",
     "text": [
      "The token has not been saved to the git credentials helper. Pass `add_to_git_credential=True` in this function directly or `--add-to-git-credential` if using via `huggingface-cli` if you want to set the git credential as well.\n",
      "Token is valid (permission: write).\n",
      "Your token has been saved to /Users/kenneth.hamilton/.cache/huggingface/token\n",
      "Login successful\n"
     ]
    }
   ],
   "source": [
    "from transformers.agents import HfEngine, ReactCodeAgent\n",
    "from huggingface_hub import login\n",
    "import os\n",
    "\n",
    "login(os.getenv(\"HF_TOKEN\"))\n",
    "\n",
    "llm_engine = HfEngine(\"meta-llama/Meta-Llama-3.1-70B-Instruct\")\n",
    "\n",
    "agent = ReactCodeAgent(\n",
    "    tools=[],\n",
    "    llm_engine=llm_engine,\n",
    "    additional_authorized_imports=[\"numpy\", \"pandas\", \"matplotlib.pyplot\", \"seaborn\"],\n",
    "    max_iterations=10,\n",
    ")"
   ]
  },
  {
   "cell_type": "code",
   "execution_count": 2,
   "metadata": {},
   "outputs": [
    {
     "data": {
      "text/html": [
       "\n",
       "<iframe src=\"https://huggingface.co/datasets/scikit-learn/churn-prediction/viewer\" width=\"80%\" height=\"560px\"></iframe>\n"
      ],
      "text/plain": [
       "<IPython.core.display.HTML object>"
      ]
     },
     "metadata": {},
     "output_type": "display_data"
    }
   ],
   "source": [
    "from IPython.display import HTML\n",
    "iframe_html = \"\"\"\n",
    "<iframe src=\"https://huggingface.co/datasets/scikit-learn/churn-prediction/viewer\" width=\"80%\" height=\"560px\"></iframe>\n",
    "\"\"\"\n",
    "display(HTML(iframe_html))"
   ]
  },
  {
   "cell_type": "code",
   "execution_count": null,
   "metadata": {},
   "outputs": [],
   "source": [
    "additional_notes = \"\"\"\n",
    "### Variable Notes\n",
    "\n",
    "\"\"\"\n",
    "\n",
    "analysis = agent.run(\n",
    "    \"\"\"You are an expert data analyst.\n",
    "    Please use the loaded dataset from Hugging Face to analyse it for historical usage trends, specifically, the correlation between temperature and \n",
    "\n",
    "    In your final answer: summarize these correlations and trends\n",
    "    After each number derive real worlds insights, for instance: \"Correlation between is_december and boredness is 1.3453, which suggest people are more bored in winter\".\n",
    "    Your final answer should have at least 3 numbered and detailed parts.\n",
    "    \"\"\",\n",
    "    additional_notes=additional_notes,\n",
    "    source_file=\"titanic/train.csv\",\n",
    ")"
   ]
  },
  {
   "cell_type": "code",
   "execution_count": null,
   "metadata": {},
   "outputs": [],
   "source": [
    "print(analysis)"
   ]
  },
  {
   "cell_type": "code",
   "execution_count": null,
   "metadata": {},
   "outputs": [],
   "source": [
    "agent = ReactCodeAgent(\n",
    "    tools=[],\n",
    "    llm_engine=llm_engine,\n",
    "    additional_authorized_imports=[\n",
    "        \"numpy\",\n",
    "        \"pandas\",\n",
    "        \"matplotlib.pyplot\",\n",
    "        \"seaborn\",\n",
    "        \"sklearn\",\n",
    "    ],\n",
    "    max_iterations=12,\n",
    ")\n",
    "\n",
    "output = agent.run(\n",
    "    \"\"\"You are an expert machine learning engineer.\n",
    "Please train a ML model on \"titanic/train.csv\" to predict the survival for rows of \"titanic/test.csv\".\n",
    "Output the results under './output.csv'.\n",
    "Take care to import functions and modules before using them!\n",
    "\"\"\",\n",
    "    additional_notes=additional_notes + \"\\n\" + analysis,\n",
    ")"
   ]
  }
 ],
 "metadata": {
  "kernelspec": {
   "display_name": "daa",
   "language": "python",
   "name": "python3"
  },
  "language_info": {
   "codemirror_mode": {
    "name": "ipython",
    "version": 3
   },
   "file_extension": ".py",
   "mimetype": "text/x-python",
   "name": "python",
   "nbconvert_exporter": "python",
   "pygments_lexer": "ipython3",
   "version": "3.8.19"
  }
 },
 "nbformat": 4,
 "nbformat_minor": 2
}
